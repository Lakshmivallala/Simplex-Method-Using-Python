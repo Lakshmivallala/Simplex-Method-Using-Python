{
 "cells": [
  {
   "cell_type": "markdown",
   "metadata": {},
   "source": [
    "#  <CENTER> LINEAR PROGRAMMING AND OPTIMISATION </CENTER>\n",
    "### <CENTER> ASSIGNMENT 3</CENTER>\n",
    "### <CENTER> THE SIMPLEX METHOD </CENTER>\n",
    "### <CENTER> COMPUTER IMPLEMENTATION </CENTER>"
   ]
  },
  {
   "cell_type": "markdown",
   "metadata": {},
   "source": [
    "| Library/module | Description   |\n",
    "|------|------|\n",
    "|   np  | Library for scientific computing in Python|\n",
    "|   math  |Module for performing mathematical tasks|\n",
    "|   tqdm  | instant progress bar/meter while using looping statements|\n",
    "|   gc  | garbage collecter interface|"
   ]
  },
  {
   "cell_type": "markdown",
   "metadata": {},
   "source": [
    "INPUT: \n",
    "> Cost function and its constraints\n",
    "\n",
    "OUTPUT: \n",
    ">Basic feasible solution, the objective value and zj-cj value"
   ]
  },
  {
   "cell_type": "code",
   "execution_count": 53,
   "metadata": {},
   "outputs": [],
   "source": [
    "import numpy as np\n",
    "import math\n",
    "import gc \n",
    "from tqdm import tqdm"
   ]
  },
  {
   "cell_type": "markdown",
   "metadata": {},
   "source": [
    "*Passing the linear program coefficients*"
   ]
  },
  {
   "cell_type": "code",
   "execution_count": 54,
   "metadata": {},
   "outputs": [],
   "source": [
    "c = [1, 1, 0, 0, 0]\n",
    "A = [[-1, 1, 1, 0, 0],\n",
    "    [ 1, 0, 0, 1, 0],\n",
    "    [ 0, 1, 0, 0, 1]]\n",
    "b = [2, 4, 4]"
   ]
  },
  {
   "cell_type": "code",
   "execution_count": 47,
   "metadata": {
    "scrolled": true
   },
   "outputs": [
    {
     "data": {
      "text/plain": [
       "140"
      ]
     },
     "execution_count": 47,
     "metadata": {},
     "output_type": "execute_result"
    }
   ],
   "source": [
    "gc.collect()"
   ]
  },
  {
   "cell_type": "markdown",
   "metadata": {},
   "source": [
    "*Convert the coefficients to a tableau and find pivot*"
   ]
  },
  {
   "cell_type": "code",
   "execution_count": 35,
   "metadata": {},
   "outputs": [],
   "source": [
    "def simplex(c, A, b):\n",
    "    tableau = to_tableau(c, A, b)\n",
    "\n",
    "    while can_be_improved(tableau):\n",
    "        pivot_position = get_pivot_position(tableau)\n",
    "        tableau = pivot_step(tableau, pivot_position)\n",
    "\n",
    "    return get_solution(tableau)"
   ]
  },
  {
   "cell_type": "code",
   "execution_count": 36,
   "metadata": {},
   "outputs": [],
   "source": [
    "def to_tableau(c, A, b):\n",
    "    xb = [eq + [x] for eq, x in zip(A, b)]\n",
    "    z = c + [0]\n",
    "    return xb + [z]"
   ]
  },
  {
   "cell_type": "code",
   "execution_count": 37,
   "metadata": {},
   "outputs": [],
   "source": [
    "def can_be_improved(tableau):\n",
    "    z = tableau[-1]\n",
    "    return any(x > 0 for x in tqdm(z[:-1]))"
   ]
  },
  {
   "cell_type": "code",
   "execution_count": 38,
   "metadata": {},
   "outputs": [],
   "source": [
    "def get_pivot_position(tableau):\n",
    "    z = tableau[-1]\n",
    "    column = next(i for i, x in enumerate(z[:-1]) if x > 0)\n",
    "    \n",
    "    restrictions = []\n",
    "    for eq in tqdm(tableau[:-1]):\n",
    "        el = eq[column]\n",
    "        restrictions.append(math.inf if el <= 0 else eq[-1] / el)\n",
    "\n",
    "    row = restrictions.index(min(restrictions))\n",
    "    return row, column"
   ]
  },
  {
   "cell_type": "code",
   "execution_count": 40,
   "metadata": {},
   "outputs": [],
   "source": [
    "def pivot_step(tableau, pivot_position):\n",
    "    new_tableau = [[] for eq in tableau]\n",
    "    \n",
    "    i, j = pivot_position\n",
    "    pivot_value = tableau[i][j]\n",
    "    new_tableau[i] = np.array(tableau[i]) / pivot_value\n",
    "    \n",
    "    for eq_i, eq in enumerate(tableau):\n",
    "        if eq_i != i:\n",
    "            multiplier = np.array(new_tableau[i]) * tableau[eq_i][j]\n",
    "            new_tableau[eq_i] = np.array(tableau[eq_i]) - multiplier\n",
    "   \n",
    "    return new_tableau"
   ]
  },
  {
   "cell_type": "code",
   "execution_count": 51,
   "metadata": {},
   "outputs": [],
   "source": [
    "def is_basic(column):\n",
    "    return sum(column) == 1 and len([c for c in column if c == 0]) == len(column) - 1"
   ]
  },
  {
   "cell_type": "code",
   "execution_count": 52,
   "metadata": {},
   "outputs": [],
   "source": [
    "def get_solution(tableau):\n",
    "    columns = np.array(tableau).T\n",
    "    solutions = []\n",
    "    for column in tqdm(columns):\n",
    "        solution = 0\n",
    "        if is_basic(column):\n",
    "            one_index = column.tolist().index(1)\n",
    "            solution = columns[-1][one_index]\n",
    "        solutions.append(solution)\n",
    "        \n",
    "    return solutions"
   ]
  },
  {
   "cell_type": "code",
   "execution_count": 42,
   "metadata": {},
   "outputs": [],
   "source": [
    "def simplex(c, A, b):\n",
    "    tableau = to_tableau(c, A, b)\n",
    "\n",
    "    while can_be_improved(tableau):\n",
    "        pivot_position = get_pivot_position(tableau)\n",
    "        tableau = pivot_step(tableau, pivot_position)\n",
    "\n",
    "    return get_solution(tableau)"
   ]
  },
  {
   "cell_type": "code",
   "execution_count": 48,
   "metadata": {
    "scrolled": true
   },
   "outputs": [
    {
     "data": {
      "text/plain": [
       "20"
      ]
     },
     "execution_count": 48,
     "metadata": {},
     "output_type": "execute_result"
    }
   ],
   "source": [
    "gc.collect()"
   ]
  },
  {
   "cell_type": "code",
   "execution_count": 49,
   "metadata": {},
   "outputs": [
    {
     "name": "stderr",
     "output_type": "stream",
     "text": [
      "  0%|          | 0/5 [00:00<?, ?it/s]\n",
      "100%|██████████| 3/3 [00:00<00:00, 9258.95it/s]\n",
      " 20%|██        | 1/5 [00:00<00:00, 2833.99it/s]\n",
      "100%|██████████| 3/3 [00:00<00:00, 15650.39it/s]\n",
      "100%|██████████| 5/5 [00:00<00:00, 37249.59it/s]\n",
      "100%|██████████| 6/6 [00:00<00:00, 29959.31it/s]"
     ]
    },
    {
     "name": "stdout",
     "output_type": "stream",
     "text": [
      "Basic Feasible Solution:  [4.0, 4.0, 2.0, 0, 0, 0]\n"
     ]
    },
    {
     "name": "stderr",
     "output_type": "stream",
     "text": [
      "\n"
     ]
    }
   ],
   "source": [
    "solution = simplex(c, A, b)\n",
    "print('Basic Feasible Solution: ', solution)"
   ]
  },
  {
   "cell_type": "code",
   "execution_count": null,
   "metadata": {},
   "outputs": [],
   "source": []
  }
 ],
 "metadata": {
  "kernelspec": {
   "display_name": "Python 3",
   "language": "python",
   "name": "python3"
  },
  "language_info": {
   "codemirror_mode": {
    "name": "ipython",
    "version": 3
   },
   "file_extension": ".py",
   "mimetype": "text/x-python",
   "name": "python",
   "nbconvert_exporter": "python",
   "pygments_lexer": "ipython3",
   "version": "3.8.5"
  }
 },
 "nbformat": 4,
 "nbformat_minor": 4
}
